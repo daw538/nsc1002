{
 "cells": [
  {
   "cell_type": "markdown",
   "id": "9840d552-a484-4e68-b2e4-bd9263b014a3",
   "metadata": {},
   "source": [
    "# Worksheet 3 - Loops, Algorithms & Jupyter\n",
    "\n",
    "By the end of this session you will:\n",
    "- Know what an algorithm is\n",
    "- Write several algorithms using python scripts that use conditionals and loops\n",
    "- Discover how to write and run python scripts using Jupyter\n",
    "\n",
    "As usual, if you have any questions during this session please ask. You should complete all the exercises before next week.\n",
    "\n",
    "_Remember: you learn by doing! The best way to learn Python or any computer language is by writing programs!_\n",
    "\n",
    "___\n",
    "## Jupyter Intro 🧑‍💻\n",
    "Hopefully by this point you will have been given a short introduction and demonstration of [Jupyter](https://jupyter.org \"Jupyter Website\"), either using **jupyter notebook** or **jupyter lab** (I recommend **jupyter lab**). Both can be launched easily from the Anaconda Launcher you should already have installed on your machine. The file you have just opened is known as a jupyter notebook (you'll see they have .ipynb in their filename rather than .py for a normal python script). In each notebook you can write text and run code in the same place (and much more); each block of text or code is stored in a separate 'cell', and this allows you to run single blocks of code separately should you wish.\n",
    "\n",
    "If you want to edit text, it's as easy as double clicking on this cell and the editor will appear. To confirm your changes you can click run cell (▶), or even easier, `shift+enter` on the keyboard.\n",
    "\n",
    "It's exactly the same for code. Enter your code and use `shift+enter` or ▶ to run that cell of code. To add a new cell, you can click ➕ or use `shift+enter` (if you are at the end of the notebook).\n",
    "\n",
    "Some of the other useful buttons are listed here:\n",
    "- ▶ - Run selected cell\n",
    "- ⏹ - Interrupt kernel (stops selected cell)\n",
    "- 🔁 - Restart kernel (this resets the notebook and all stored variables)\n",
    "- ⏩ - Fast-forward (runs all code forward of that point)\n",
    "- 💾 - Save notebook (it should auto-save each time you run code, but just to be safe!)\n",
    "\n",
    "If you're using **jupyter lab** you will be able to view different notebooks in tabs similar to your web browser, as well as a file sidebar on the left-hand side of your notebook. You can use this to upload and organise any files you might want to you along with your python script.\n",
    "\n",
    "The rest of this notebook is simply a different version of the pdf worksheet you will have already been given. The advantage is that this notebook will show you the text of the document with the example outputs shown alongside. At the end there are instructions and space for you to add your own code for the exercises given at the end of the worksheet.\n",
    "\n",
    "At the end of the day how you code is entirely up to you, I imagine some people will form a preference for either Spyder or Jupyter, so use whatever you prefer. Note though, that at the end of this semester you may find in NSC1004 you will be asked to use Jupyter in a lab session, so hopefully this will prepare you well! 😀\n",
    "\n",
    "___\n",
    "\n",
    "## Loops\n",
    "\n",
    "Loops are methods used to repeat a block of code. There are two main types of loops, _for_ loops and _while_ loops.\n",
    "\n",
    "### 1. `for` loops\n",
    "`for` loops are used when the number of repetitions is known. A `for` loop has the following structure:\n",
    "```python\n",
    "for <iterator> in <iterable>:\n",
    "    indented statements\n",
    "    more indented statements\n",
    "pass # end of loop; note the end of indentation also (this line is optional)\n",
    "more lines of code after loop\n",
    "```\n",
    "\n",
    "The iterator is a dummy variable, typically an index, whose value sequentially takes on the values of the iterable. The iterable is typically a range of numbers (e.g. 1 to 100) but can be something more general such as a list of items. For the loop to run correctly, there are two rules you **must** follow:\n",
    "1. You must use a colon `:` at the end of the `for` statement (similar to if you were writing an `if` statement.\n",
    "2. Loops must be _indented_, normally by four spaces. The end of the loop is marked by the end of the indentation.\n",
    "\n",
    "Sometimes people will write `pass` at the end of a for loop without indentation as a helpful marker however this is optional. The most important part is the end of indentation. See the following example:"
   ]
  },
  {
   "cell_type": "code",
   "execution_count": 6,
   "id": "fd9bc00c-e3af-4a88-a028-0458e6b022ee",
   "metadata": {},
   "outputs": [
    {
     "name": "stdout",
     "output_type": "stream",
     "text": [
      "Fruit is apple\n",
      "Fruit is orange\n",
      "Fruit is pear\n",
      "Fruit is cherry\n"
     ]
    }
   ],
   "source": [
    "# This is a comment statment. It is here to document your program\n",
    "# Comment statements are a bit like single-line docstrings and can go anywhere\n",
    "fruit_list = ['apple', 'orange', 'pear', 'cherry']\n",
    "\n",
    "for fruit in fruit_list:\n",
    "    print(\"Fruit is\", fruit)\n",
    "pass"
   ]
  },
  {
   "cell_type": "markdown",
   "id": "d184b6ab-b24b-49a1-8dec-6acefae1f044",
   "metadata": {},
   "source": [
    "We can also use a function called `enumerate` to get the position when iterating through a list."
   ]
  },
  {
   "cell_type": "code",
   "execution_count": 7,
   "id": "5421f9c4-4152-43a7-ba6f-5bdac16b73a0",
   "metadata": {},
   "outputs": [
    {
     "name": "stdout",
     "output_type": "stream",
     "text": [
      "Fruit number 0 is apple\n",
      "Fruit number 1 is orange\n",
      "Fruit number 2 is pear\n",
      "Fruit number 3 is cherry\n"
     ]
    }
   ],
   "source": [
    "fruit_list = ['apple', 'orange', 'pear', 'cherry']\n",
    "\n",
    "for idx, fruit in enumerate(fruit_list):\n",
    "    # Note that enumerate will follow normal python behaviour\n",
    "    # and starts counting from zero, not one\n",
    "    print(f\"Fruit number {idx} is {fruit}\")\n",
    "pass"
   ]
  },
  {
   "cell_type": "markdown",
   "id": "589cf7e7-e3b6-418e-8ffa-457322a70203",
   "metadata": {},
   "source": [
    "This also demonstrates the _format_ method of strings, allowing you to place variable text inside strings. See the [Python documentation](https://docs.python.org/3/library/string.html#format-string-syntax \"Python String Formatting Docs\") for more details on formatting. If you want to get more information on a function that you don’t understand, type the name of the function followed by a question mark and run that code, such as:"
   ]
  },
  {
   "cell_type": "code",
   "execution_count": 8,
   "id": "4f5f8d3b-e97d-4556-8726-a88c809f5799",
   "metadata": {},
   "outputs": [
    {
     "data": {
      "text/plain": [
       "\u001b[0;31mDocstring:\u001b[0m\n",
       "print(value, ..., sep=' ', end='\\n', file=sys.stdout, flush=False)\n",
       "\n",
       "Prints the values to a stream, or to sys.stdout by default.\n",
       "Optional keyword arguments:\n",
       "file:  a file-like object (stream); defaults to the current sys.stdout.\n",
       "sep:   string inserted between values, default a space.\n",
       "end:   string appended after the last value, default a newline.\n",
       "flush: whether to forcibly flush the stream.\n",
       "\u001b[0;31mType:\u001b[0m      builtin_function_or_method\n"
      ]
     },
     "metadata": {},
     "output_type": "display_data"
    }
   ],
   "source": [
    "print?"
   ]
  },
  {
   "cell_type": "code",
   "execution_count": 9,
   "id": "d4ff2ec3-f461-4ef8-bfe0-1ec7ee28d622",
   "metadata": {},
   "outputs": [
    {
     "data": {
      "text/plain": [
       "\u001b[0;31mInit signature:\u001b[0m \u001b[0menumerate\u001b[0m\u001b[0;34m(\u001b[0m\u001b[0miterable\u001b[0m\u001b[0;34m,\u001b[0m \u001b[0mstart\u001b[0m\u001b[0;34m=\u001b[0m\u001b[0;36m0\u001b[0m\u001b[0;34m)\u001b[0m\u001b[0;34m\u001b[0m\u001b[0;34m\u001b[0m\u001b[0m\n",
       "\u001b[0;31mDocstring:\u001b[0m     \n",
       "Return an enumerate object.\n",
       "\n",
       "  iterable\n",
       "    an object supporting iteration\n",
       "\n",
       "The enumerate object yields pairs containing a count (from start, which\n",
       "defaults to zero) and a value yielded by the iterable argument.\n",
       "\n",
       "enumerate is useful for obtaining an indexed list:\n",
       "    (0, seq[0]), (1, seq[1]), (2, seq[2]), ...\n",
       "\u001b[0;31mType:\u001b[0m           type\n",
       "\u001b[0;31mSubclasses:\u001b[0m     \n"
      ]
     },
     "metadata": {},
     "output_type": "display_data"
    }
   ],
   "source": [
    "enumerate?"
   ]
  },
  {
   "cell_type": "code",
   "execution_count": 10,
   "id": "0a7b4b07-ca26-4592-bf42-ff5f5f986c23",
   "metadata": {},
   "outputs": [
    {
     "data": {
      "text/plain": [
       "\u001b[0;31mInit signature:\u001b[0m \u001b[0mrange\u001b[0m\u001b[0;34m(\u001b[0m\u001b[0mself\u001b[0m\u001b[0;34m,\u001b[0m \u001b[0;34m/\u001b[0m\u001b[0;34m,\u001b[0m \u001b[0;34m*\u001b[0m\u001b[0margs\u001b[0m\u001b[0;34m,\u001b[0m \u001b[0;34m**\u001b[0m\u001b[0mkwargs\u001b[0m\u001b[0;34m)\u001b[0m\u001b[0;34m\u001b[0m\u001b[0;34m\u001b[0m\u001b[0m\n",
       "\u001b[0;31mDocstring:\u001b[0m     \n",
       "range(stop) -> range object\n",
       "range(start, stop[, step]) -> range object\n",
       "\n",
       "Return an object that produces a sequence of integers from start (inclusive)\n",
       "to stop (exclusive) by step.  range(i, j) produces i, i+1, i+2, ..., j-1.\n",
       "start defaults to 0, and stop is omitted!  range(4) produces 0, 1, 2, 3.\n",
       "These are exactly the valid indices for a list of 4 elements.\n",
       "When step is given, it specifies the increment (or decrement).\n",
       "\u001b[0;31mType:\u001b[0m           type\n",
       "\u001b[0;31mSubclasses:\u001b[0m     \n"
      ]
     },
     "metadata": {},
     "output_type": "display_data"
    }
   ],
   "source": [
    "range?"
   ]
  },
  {
   "cell_type": "markdown",
   "id": "f6107be3-f37d-4ed7-b85a-d0c31f683a88",
   "metadata": {},
   "source": [
    "The range method is probably the most common way of forming a for loop, described below. If you don’t understand the enumerate statement, skip it and come back to it later.\n",
    "\n",
    "### 2. `while` loops\n",
    "A while statement repeats a block of code until a condition has been met. While loops also need a colon and are indented, and so have the following format:\n",
    "```python\n",
    "while <condition>:\n",
    "    <statements>\n",
    "pass\n",
    "```\n",
    "See the example below:"
   ]
  },
  {
   "cell_type": "code",
   "execution_count": 11,
   "id": "d8cdef8f-9e05-48ba-967f-48c177db3436",
   "metadata": {},
   "outputs": [
    {
     "name": "stdout",
     "output_type": "stream",
     "text": [
      "Counter = 1\n",
      "Counter = 2\n",
      "Counter = 3\n",
      "Counter = 4\n",
      "Counter = 5\n"
     ]
    }
   ],
   "source": [
    "counter = 0\n",
    "\n",
    "while counter < 5:\n",
    "    counter = counter + 1\n",
    "    print('Counter =', counter)\n",
    "pass"
   ]
  },
  {
   "cell_type": "markdown",
   "id": "48522be8-cec9-4aa4-8c7c-178f2957a0d7",
   "metadata": {},
   "source": [
    "It is easy to write a while loop that never stops, so be careful!\n",
    "\n",
    "### More about `for` Loops\n",
    "The built-in python function range(stop) is one of the most useful and most common ways to construct a for loop. This function will create a range object that starts at 0 and goes to the value stop. For example, `range(4)` will create a range that includes [0, 1, 2, 3], and `range(2,4)` will start at and end at 3. Note that the loop goes from the start value to the end value -1, not the end value itself! Try out `a = range(10)` and `b = range(1,10)`. How are they different?"
   ]
  },
  {
   "cell_type": "code",
   "execution_count": 13,
   "id": "7bebd4ad-98bd-4791-a91b-5d7505a0d744",
   "metadata": {},
   "outputs": [
    {
     "name": "stdout",
     "output_type": "stream",
     "text": [
      "2\n",
      "3\n",
      "4\n",
      "5\n",
      "6\n",
      "7\n",
      "4\n",
      "6\n",
      "8\n",
      "10\n",
      "12\n"
     ]
    }
   ],
   "source": [
    "# Examples:\n",
    "for i in range(2,8):\n",
    "    print(i)\n",
    "pass\n",
    "\n",
    "# You can also skip numbers, like this:\n",
    "for i in range(4,13,2):\n",
    "    print(i)\n",
    "pass"
   ]
  },
  {
   "cell_type": "markdown",
   "id": "e1bc2b5b-c990-415d-9b6e-19dee90b23f9",
   "metadata": {},
   "source": [
    "#### Worked Example - `for` loop\n",
    "Write a program that calculates the change in a person’s weight on the moon over a period of 25 years where they gained 1kg mass each year. The formula to compute moon weight ($M$) from earth weight ($E$) is:\n",
    "$$M = E \\times 0.165$$\n",
    "The code can be found below – but is it correct? How should it be changed to be correct?"
   ]
  },
  {
   "cell_type": "code",
   "execution_count": 18,
   "id": "5902645c-f6cb-4850-b0f8-c95686d7bad1",
   "metadata": {},
   "outputs": [
    {
     "name": "stdout",
     "output_type": "stream",
     "text": [
      "In year 0 your weight is 8.58\n",
      "In year 1 your weight is 8.58\n",
      "In year 2 your weight is 8.58\n",
      "In year 3 your weight is 8.58\n",
      "In year 4 your weight is 8.58\n",
      "In year 5 your weight is 8.58\n",
      "In year 6 your weight is 8.58\n",
      "In year 7 your weight is 8.58\n",
      "In year 8 your weight is 8.58\n",
      "In year 9 your weight is 8.58\n",
      "In year 10 your weight is 8.58\n",
      "In year 11 your weight is 8.58\n",
      "In year 12 your weight is 8.58\n",
      "In year 13 your weight is 8.58\n",
      "In year 14 your weight is 8.58\n",
      "In year 15 your weight is 8.58\n",
      "In year 16 your weight is 8.58\n",
      "In year 17 your weight is 8.58\n",
      "In year 18 your weight is 8.58\n",
      "In year 19 your weight is 8.58\n",
      "In year 20 your weight is 8.58\n",
      "In year 21 your weight is 8.58\n",
      "In year 22 your weight is 8.58\n",
      "In year 23 your weight is 8.58\n",
      "In year 24 your weight is 8.58\n"
     ]
    }
   ],
   "source": [
    "\"\"\"Compute weight on moon whilst gaining 1kg/year on earth.\"\"\"\n",
    "earth_weight = 52.0\n",
    "\n",
    "for year in range(0, 25):\n",
    "    current_weight = earth_weight + 1\n",
    "    moon_weight = earth_weight * 0.165\n",
    "    print(f\"In year {year} your weight is {moon_weight}\")"
   ]
  },
  {
   "cell_type": "markdown",
   "id": "4093044e-186a-464d-9de9-ac55e0564328",
   "metadata": {},
   "source": [
    "1. Now update the above code so only the first 15 years are considered. Do you get the output that you expected?\n",
    "2. Remove the `:` and run the program. Do you understand the error message? Note the line on which the error occurs.\n",
    "3. Update the program so only the final weight is printed to the screen.\n",
    "4. Update the program so that it prints out a warning if your moon weight exceeds some maximum value (determined by you).\n",
    "5. Put comments into the code that explains what is initialized, what the loop does, and why you use if statements (if you use them).\n",
    "\n",
    "**HINT:** _Remember what you were told in lectures about blocks of code._\n",
    "\n",
    "**HINT:** _Remember how to use conditionals (if statements)._\n",
    "\n",
    "#### Worked Example - `while` loop\n",
    "The following is a program that will loop until an integer no longer meets a specified condition. The code can be found below:"
   ]
  },
  {
   "cell_type": "code",
   "execution_count": 19,
   "id": "6d9c4bfb-716c-487a-848f-34500ab4bc15",
   "metadata": {},
   "outputs": [
    {
     "name": "stdout",
     "output_type": "stream",
     "text": [
      "46\n",
      "47\n",
      "48\n",
      "49\n",
      "50\n"
     ]
    }
   ],
   "source": [
    "x = 45\n",
    "\n",
    "while x < 50:\n",
    "    x = x + 1\n",
    "    print(x)"
   ]
  },
  {
   "cell_type": "markdown",
   "id": "3e248fd6-15c7-4a59-9f89-d6b5bee4dd79",
   "metadata": {},
   "source": [
    "1. Update the program above so x increments by 2 each time. Save and execute the program. Do you get the output that you expected?\n",
    "2. Remove the `:` and run the program. Do you understand the error message?\n",
    "3. Update the program so two variables, $x$ and $y$, are considered. $x$ and $y$ should start with the values 5 and 20 respectively. On each iteration, $x$ should increase by 1 and $y$ decrease by 2. The while loop should stop when x is greater than y.\n",
    "\n",
    "**HINT:** _If you get stuck in a loop, you can stop the code block running by pressing the 'interrupt kernel'_ (⏹) _button in the toolbar._\n",
    "\n",
    "___\n",
    "\n",
    "## Algorithms\n",
    "An _algorithm_ is any process, set of instructions or rules that are used in a computation. For example, if you buy something that has to be\n",
    "assembled before you can use it, you often get a set of instructions,and that is an algorithm. A recipe can therefore also be considered an algorithm. The program you wrote to compute your weight on the moon and to estimate the square root of a number are also algorithms.\n",
    "\n",
    "Here are some standard types of algorithms (from the _Table of Contents of “Numerical Recipes” by William Press, Saul A. Teukolsky, William T. Vetterling, and Brian P. Flannery_):\n",
    "- Solution of Equations\n",
    "- Interpolation and Extrapolation\n",
    "- Integration of Functions\n",
    "- Evaluation of Functions (such as infinite series)\n",
    "- Special Functions (such as Bessel Functions, Integrals of sines and cosines)\n",
    "- Sorting (searching efficiently)\n",
    "- Random Numbers\n",
    "- Root finding and non-linear equations\n",
    "- Finding Minima or Maxima\n",
    "- Finding Eigenvalues and Eigenfunctions\n",
    "- Fourier and Spectral Applications\n",
    "- Statistical descriptions of data (mean, variance, skewness)\n",
    "- Modelling of Data (like fitting data to straight lines)\n",
    "- ODE Integration Methods\n",
    "- Solution of Two-point boundary value problems\n",
    "- Solution of Partial Differential Equations\n",
    "- ...and many more... as you can see algorithms are very useful!\n",
    "\n",
    "\n",
    "If we write a code to find the square root of $x$, we are using a simple algorithm since we are searching for the solution to the equation $y\\times y-x=0$. There can be many different kinds of algorithms to accomplish the same task. Choosing which one to use will have to do with aspects such as efficiency, accuracy, and readability. For example, consider the following method to compute an approximation to the square root of $x$.\n",
    "\n",
    "#### Worked Example - Exhaustive Enumeration\n",
    "Exhaustive Enumeration or 'brute force search' is a general (but often very inefficient!) method of finding the solution to a problem. For the problem of finding the square root of $x$, we begin with a guess, change it by a small amount, check, and continue until it’s close enough. Here is demonstration code from the class reference book (_Introduction to Computation and Programming using Python, by John Guttage_, Figure 3.3) that finds the square root of $x$ using exhaustive enumeration:\n",
    "\n",
    "```python\n",
    "\"\"\"Find square root of number using exhaustive enumeration.\"\"\"\n",
    "x = 25.0\n",
    "epsilon = 0.001\n",
    "step = epsilon**2\n",
    "num_guesses = 0\n",
    "tot_guesses = 1e7\n",
    "ans = 0.0\n",
    "\n",
    "while abs(ans**2 - x) >= epsilon and num_guesses <= tot_guesses:\n",
    "    ans += step\n",
    "    num_guesses += 1\n",
    "    print(f'Num Guesses: {num_guesses}')\n",
    "    if abs(ans**2 - x) >= epsilon:\n",
    "        print(f'Failed to find sqrt of {x}'\n",
    "    else:\n",
    "        print(f'{ans} is close to sqrt of {x}'\n",
    "```\n",
    "\n",
    "Notice the `+=` operation. This will advance the variable. For example, `num_guesses += 1` is the same as `num_guesses = num_guesses + 1` and will add one to num_guesses every time the statement is encountered.\n",
    "\n",
    "____\n",
    "\n",
    "## Exercise 1\n",
    "Edit the earlier script you used to convert between Moon and Earth weights so that the individual only gains weight if the year is an even number. The program should print out the weight of the individual at each year. Feel free to use the empty code box below in which to write your code."
   ]
  },
  {
   "cell_type": "code",
   "execution_count": null,
   "id": "5f40deb1-b49a-44be-930f-1d324061b22c",
   "metadata": {},
   "outputs": [],
   "source": []
  },
  {
   "cell_type": "markdown",
   "id": "e6b52e65-4f01-4f40-9b8a-8df2f447e6fa",
   "metadata": {},
   "source": [
    "## Exercise 2\n",
    "Write a script to calculate the first 10 numbers of the [Fibonnacci sequence](https://en.wikipedia.org/wiki/Fibonacci_sequence \"Fibonacci Sequence\")."
   ]
  },
  {
   "cell_type": "code",
   "execution_count": null,
   "id": "acf79b26-d663-49f9-bd36-7fc549cd3dde",
   "metadata": {},
   "outputs": [],
   "source": []
  },
  {
   "cell_type": "markdown",
   "id": "2fde3f4d-f08c-48c7-8d22-657bae31e98a",
   "metadata": {},
   "source": [
    "## Exercise 3\n",
    "Copy and debug the program for finding the square root using the method of Exhaustive Enumeration (see above).\n",
    "1. Add comments using the hash # mark that describes what each part of the code does.\n",
    "2. How many iterations does it take to find $\\sqrt{25}$?\n",
    "3. What happens if you make $x$ bigger?\n",
    "4. How many iterations does it take if $x=12000$?\n",
    "5. How many iterations will it take for $x=25$ if we make the guess more accurate by setting $\\epsilon=0.001$?"
   ]
  },
  {
   "cell_type": "code",
   "execution_count": null,
   "id": "dac20521-b210-4251-8af8-d19cad71f0d4",
   "metadata": {},
   "outputs": [],
   "source": []
  },
  {
   "cell_type": "markdown",
   "id": "8bbd576f-1d68-49e7-beff-0957e4bf6c02",
   "metadata": {},
   "source": [
    "## Exercise 4\n",
    "In this exercise use a new (and better!) algorithm, one attributed to Heron of Alexandria, to approximate the square root of a number. The algorithm is as follows:\n",
    "- Step (i): Suppose we want to know value of $\\sqrt{25}$.\n",
    "- Step (ii): Start with a guess $g$, which you initialize.\n",
    "- Step (iii): If $g\\times g$ is close enough to $x$, stop and say that $g$ is the answer. You will be the one to decide how close is close!\n",
    "- Step (iv): If $g\\times g$ is not close enough, then update the guess, $g$ to a new value by averaging $g$ and $\\frac{x}{g}$, i.e. $\\frac{1}{2}\\left(g + \\frac{x}{g}\\right)$. That is, we set:\n",
    "$$ g = \\frac{\\left(g + \\frac{x}{g}\\right)}{2}$$\n",
    "- Step (v): Using this new guess (again called $g$) repeat the process until $g\\times g$ is close enough to $x$.\n",
    "\n",
    "Using python, write a program to find the square root of all numbers from 1 to 25. Thus:\n",
    "1. Write an 'outer loop' that goes from 1 to 25. This is best done using a _for_ loop with the _range_ function.\n",
    "2. For each number in the loop, find its square root. To do this, you should use another loop to perform the iteration. (Having loops within loops is known as nesting)\n",
    "3. The inner loop can be a for loop or (better) a while loop.\n",
    "4. In each iteration, test to see if you have found the square root to a good accuracy, and then exit the loop.\n",
    "5. In a while loop, the test can be part of the while statement. If you use a for loop, you will need to provide a separate test within the loop. For example, test that $|g^2-x|<\\epsilon$ where $\\epsilon$ is a small number.\n",
    "6. Use the function `abs(f)` to get the absolute value of $f$.\n",
    "7. Print the original number and its square root."
   ]
  },
  {
   "cell_type": "code",
   "execution_count": null,
   "id": "af1788aa-92a7-4494-ac2f-f5eacba7f56a",
   "metadata": {},
   "outputs": [],
   "source": []
  }
 ],
 "metadata": {
  "kernelspec": {
   "display_name": "Python 3",
   "language": "python",
   "name": "python3"
  },
  "language_info": {
   "codemirror_mode": {
    "name": "ipython",
    "version": 3
   },
   "file_extension": ".py",
   "mimetype": "text/x-python",
   "name": "python",
   "nbconvert_exporter": "python",
   "pygments_lexer": "ipython3",
   "version": "3.9.1"
  }
 },
 "nbformat": 4,
 "nbformat_minor": 5
}
