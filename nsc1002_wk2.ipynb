{
 "cells": [
  {
   "cell_type": "markdown",
   "id": "c6d07fd7-fd1c-44d3-9c11-3cb09971d83a",
   "metadata": {},
   "source": [
    "# Worksheet 2 - Data Types & Conditionals\n",
    "\n",
    "Previously you learned...\n",
    "- Why computer programming is important\n",
    "- That a computer programming language is used to communicate human instructions to computers\n",
    "- Python is an interpreted computer programming language and that throughout this course we'll be using the Anaconda installation of Python\n",
    "- How to find and write a basic program using Jupyter\n",
    "- Basic data types (int, float, str, bool)\n",
    "\n",
    "By the end of this session, you will...\n",
    "- Know more about data types, including _strings_, _lists_ and _tuples_.\n",
    "- Know what mutable/immutable data is\n",
    "- Understand what a conditional is (if statement) and use in a program\n",
    "- Use matplotlib's plot function to display data\n",
    "\n",
    "If you have any questions during this session please do not hesitate to ask one of the demonstrators. You should ensure that you have completed all exercises before the next workshop.\n",
    "\n",
    "## Data Types continued: lists, strings, and tuples\n",
    "In the last workshop we discussed different data types (int, float, bool, str). In this workshop we'll discuss more about data types including more about strings, lists, tuples.\n",
    "\n",
    "### What are Lists?\n",
    "Lists are arrangements of values that are identified with an index. For example, in the list `[-2., 'cat', 42]`, The first value is identified with the index 0, the second value, 'cat', is identified with the index 1, and the last value, 42, is identified with the index 2. Run the following code and look at the output."
   ]
  },
  {
   "cell_type": "code",
   "execution_count": 1,
   "id": "8da15d41-f795-45e8-9b10-4cd26baac2f5",
   "metadata": {},
   "outputs": [
    {
     "name": "stdout",
     "output_type": "stream",
     "text": [
      "-2.72\n",
      "-3.14\n",
      "42.0\n"
     ]
    }
   ],
   "source": [
    "A = [-2.72, -3.14, 42.]\n",
    "print(A[0])\n",
    "print(A[1])\n",
    "print(A[2])"
   ]
  },
  {
   "cell_type": "markdown",
   "id": "e68d7bca-ddbf-42fe-8935-0b6f781a765c",
   "metadata": {},
   "source": [
    "Why is a list useful? Lists can allow us to easily create a plot using Python's built-in plotting package pyplot. Pyplot is a collection of functions that allows a user to interface with computer graphics. We will be writing simple programs to use plotting thoughout this course. In order to make use of the plotting package we must import it into our python script with the line `import matplotlib.pyplot as plt`. This method will be used again to import other packages later in the course -- you only need to do this once per notebook we tend to put import statements at the start of our work."
   ]
  },
  {
   "cell_type": "code",
   "execution_count": 2,
   "id": "980ffbf9-5a91-4bb3-9b6e-37b1181eb9e0",
   "metadata": {},
   "outputs": [
    {
     "data": {
      "image/png": "[encoded data removed]",
      "text/plain": [
       "<Figure size 432x288 with 1 Axes>"
      ]
     },
     "metadata": {
      "needs_background": "light"
     },
     "output_type": "display_data"
    }
   ],
   "source": [
    "import matplotlib.pyplot as plt     # To save typing the full package name we can create a shortcut called plt\n",
    "\n",
    "# Create two lists, plot them.\n",
    "x = [1, 2, 3, 4]\n",
    "y = [1, 7, 3, 5]\n",
    "plt.plot(x, y)\n",
    "plt.show()"
   ]
  },
  {
   "cell_type": "markdown",
   "id": "b954a5c0-b58f-42aa-b2d9-4836474504c0",
   "metadata": {},
   "source": [
    "Examine the use of the two lists in the plot function. The figure shows the connection between the elements in the list and the graph pyplot produces. Change the 4 in the first list to 22 and rerun your program. What happens? Change the 7 in the second list to 14 and see what happens. The function plot takes 2 lists, the first is a list of values that corresponds to the horizontal axes, and the second list corresponds to the vertical axes. Type 'Python pyplot syntax' into a search engine to see a list of all the possible options for the plot function.\n",
    "\n",
    "The figure below shows how the plot was created from the lists provided:\n",
    "\n",
    "![](nsc1004_wk2_fig1.png \"Figure 1\")\n",
    "\n",
    "### What are Strings?\n",
    "Like lists, strings (and tuples) are ordered sequences of elements. Strings can be represented by single or double quotes. For example:"
   ]
  },
  {
   "cell_type": "code",
   "execution_count": null,
   "id": "8275b5b1-4002-4f8e-a1ed-88e030e3b3fa",
   "metadata": {},
   "outputs": [],
   "source": [
    "string1 = 'Minerva'\n",
    "string2 = 'Bridget'\n",
    "\n",
    "# You can do operations on strings\n",
    "string3 = string1 + string2\n",
    "string4 = 4 * string1 + 3 * string2\n",
    "string5 = string1 + string2\n",
    "print(string5)\n",
    "\n",
    "string4 = 4 * string1 + 3 * string2\n",
    "print(string4)\n",
    "\n",
    "# You can find out how long a string is using len()\n",
    "print('length of string1 =', len(string1))\n",
    "print('length of string4 =', len(string4))\n",
    "\n",
    "# You can extract individual characters from a string. Notice the use of []\n",
    "# rather than ()\n",
    "print(string4[0])\n",
    "print(string4[5])\n",
    "\n",
    "# You can do 'slicing' on strings\n",
    "string6 = string4[0:4]\n",
    "print(string6)\n",
    "\n",
    "num_chars_string1 = len(string1)\n",
    "string7 = string5[0:num_chars_string1]\n",
    "print(string7)"
   ]
  },
  {
   "cell_type": "markdown",
   "id": "dc10ff8e-8633-4f13-80de-8e27d1c85077",
   "metadata": {},
   "source": [
    "You can perform operations on strings. You can do a web search on \"Common string operations Python\" and find many different operations such as `string.digits`, `string.uppercase`, `string.letters`, `string.index`. These operations can be performed by using: `string.<operation>` where operation is any of the above. For example,\n",
    "```python\n",
    "string1 = 'Minerva'\n",
    "string2 = 'erv'\n",
    "print(string1.index(string2))\n",
    "```\n",
    "will produce the output 3.\n",
    "\n",
    "### What are tuples?\n",
    "Tuples, like strings and lists are also ordered sequences of elements. The difference between tuples and lists are that tuples, once assigned, cannot be changed, unlike lists. Tuples use round brackets and lists use square brackets. In Python, objects whose data can be changed are called mutable and objects whose data cannot be changed are called immutable. Tuples are immutable, while lists are mutable."
   ]
  },
  {
   "cell_type": "code",
   "execution_count": null,
   "id": "7b4b5bd5-932d-4a58-9566-eaf2967f0531",
   "metadata": {},
   "outputs": [],
   "source": [
    "tuple1 = (1, 'Minerva', 'cat', 56)\n",
    "tuple2 = ('Bridget', 'David', 24.57)\n",
    "tuple3 = (46, )\n",
    "\n",
    "print(tuple1)\n",
    "print(tuple2)\n",
    "print(tuple3)\n",
    "print(tuple1[1])\n",
    "print(tuple1[3])\n",
    "\n",
    "# Like strings tuples can be concatenated, sliced and indexed\n",
    "print(tuple1 + tuple2)\n",
    "print(len(tuple1))\n",
    "print(len(tuple1 + tuple2))\n",
    "\n",
    "# Multiplying makes copies\n",
    "print(5 * tuple1)\n",
    "print(tuple1[0])\n",
    "print(tuple3[0])\n",
    "print(tuple1[1:3])\n",
    "print((tuple1 + tuple2)[3:7])"
   ]
  },
  {
   "cell_type": "markdown",
   "id": "60d5f728-fdde-4927-a597-22c390d7f330",
   "metadata": {},
   "source": [
    "### Conditional Statements (if statements)\n",
    "\n",
    "Conditionals are blocks of code that make cause a code to branch. A conditional statement has three parts:\n",
    "1. A test that evaluates to either true or false\n",
    "2. A block of code that is executed if the test evaluates to true\n",
    "3. Another (optional) block of code that is executed if the test evaluates to false\n",
    "\n",
    "In the lecture we talked about conditionals (also called if statement). Here is some information about them. The structure of an if statement looks like this:\n",
    "```python\n",
    "if <conditional statement>:\n",
    "    Do Something\n",
    "elif <conditional statement>:\n",
    "    Do some other thing\n",
    "else:\n",
    "    Do something different still\n",
    "pass\n",
    "# The pass statement does nothing and is optional but can\n",
    "# be a useful visual marker for the end of the conditional\n",
    "Rest of the code continues here\n",
    "```\n",
    "\n",
    "The overall structure is 'if, elif, else'. The elif and else statements are optional and not always needed. Remember, you must indent the contents of the if statements by 4 spaces! We also discussed the following relational operators used in conditional statements: `==, >, <, !=, >=, <=` and also logicals like **and**, **or**, and **not** (for example if `a != b` or `b == c`). We discussed a program that calculated the relationship between two integers (i.e., equal, greater than or less than). The code can be\n",
    "found below:\n",
    "```python\n",
    "if x == y:\n",
    "    print('x equals y')\n",
    "else:\n",
    "    if x > y:\n",
    "        print('x is greater than y')\n",
    "    else:\n",
    "        print('x less than y')\n",
    "```\n",
    "\n",
    "___"
   ]
  },
  {
   "cell_type": "markdown",
   "id": "a677990c-e379-48cd-bd6f-ead424e5082c",
   "metadata": {},
   "source": [
    "## Exercise 1\n",
    "\n",
    "Use the code above and intialise the values of x to 5 and y to 10. Run the code and note the result.\n",
    "\n",
    "Introduce a syntax error by removing one of the ':' -- do you understand the error message?"
   ]
  },
  {
   "cell_type": "code",
   "execution_count": null,
   "id": "ca3417ca-d058-4abc-9488-74058df9b070",
   "metadata": {},
   "outputs": [],
   "source": []
  },
  {
   "cell_type": "markdown",
   "id": "a7e90283-c9f5-4e12-94da-f28fe4e6b0b4",
   "metadata": {},
   "source": [
    "## Exercise 2\n",
    "Write a new program that prints the larger of two integers (or if they are equal)."
   ]
  },
  {
   "cell_type": "code",
   "execution_count": null,
   "id": "3d998ec7-9281-4283-afe5-c59a1f479efe",
   "metadata": {},
   "outputs": [],
   "source": []
  },
  {
   "cell_type": "markdown",
   "id": "22943ac4-96f8-4191-8c55-f161be619413",
   "metadata": {},
   "source": [
    "## Exercise 3\n",
    "Write a new program that prints the largest of four integers (or if they all equal one another)."
   ]
  },
  {
   "cell_type": "code",
   "execution_count": null,
   "id": "be79b15d-28fd-44b2-a771-29c4f4795e3f",
   "metadata": {},
   "outputs": [],
   "source": []
  },
  {
   "cell_type": "markdown",
   "id": "3a2c64a1-0a25-4b0b-b160-f30c7199015a",
   "metadata": {},
   "source": [
    "## Exercise 4\n",
    "Write a new program that prints the first and last element of each list:\n",
    "```python\n",
    "list1 = [1, 2, 3, 4, 5, 6, 7]\n",
    "list2 = [16, 2, 43, 22., .11116, 2./3., 72.]\n",
    "list3 = ['a', 'b', '63']\n",
    "list4 = ['abcde', '54']\n",
    "```"
   ]
  },
  {
   "cell_type": "code",
   "execution_count": null,
   "id": "9d796607-488b-4e5b-8f04-d7efd383e7fa",
   "metadata": {},
   "outputs": [],
   "source": []
  },
  {
   "cell_type": "markdown",
   "id": "b0972daa-b3f0-415b-8343-cb14c43a2bb2",
   "metadata": {},
   "source": [
    "## Exercise 5\n",
    "Create the following two variables and make use of the supplied code below:\n",
    "```python\n",
    "string1 = 'abcdefghijklmnopqrstuvwzyz'\n",
    "string3 = 'hij'\n",
    "```\n",
    "\n",
    "1. Modify the code to check if the 3rd element in each string is a ‘j'. If it is, print out the entire string.\n",
    "2. Modify the code to find the index in string1 where the string ‘hij' of string 3 begins.\n",
    "3. Modify the code to create a new string that represents the alphabet minus “hij”. Though strings are immutable you can form new ones using indexing. Your program should look something like the program below (N.B.: The code below contains some intentional errors!)\n",
    "4. Compute another new string that does not include “hij” or “opq”.\n",
    "\n",
    "Hint: You will find conditionals useful.\n",
    "\n",
    "Hint: use the function “index”. If you don't know the syntax look it up online!"
   ]
  },
  {
   "cell_type": "code",
   "execution_count": null,
   "id": "891af163-d672-4836-89dc-88f03ce04dd2",
   "metadata": {},
   "outputs": [],
   "source": [
    "\"\"\"\n",
    "This program experiments with strings. However, it has some errors in it!!\n",
    "@author: Beth Wingate, modified by G. Vallis\n",
    "Date: 9 November, 2018\n",
    "\"\"\"\n",
    "string1 = 'abcdefghijklmnopqrstuvwzyz'\n",
    "string3 = 'hij'\n",
    "# Experiment with strings\n",
    "# print out each letter of string3\n",
    "print('first letter of string3 ', string3[1])\n",
    "print('second letter of string3 ', string3[2])\n",
    "print('third letter of string3 ', string3[3])\n",
    "# At which index in string1 does the sequence 'hij' (defined in string3) begin?\n",
    "hij_index = string1.index(string2)\n",
    "print(hijindex)\n",
    "# Form a new string that doesn't contain 'hij'.\n",
    "newstring = string"
   ]
  },
  {
   "cell_type": "markdown",
   "id": "87230b22-fa1f-4120-9a6e-3d3046bd92d7",
   "metadata": {},
   "source": [
    "## Exercise 6\n",
    "The roots of a quadratic $ax^2 + bx + c = 0$ are be given by the equation\n",
    "$$x = \\frac{-b\\pm\\sqrt{b^2-4ac}}{2a}$$\n",
    "Write a program that calculates the roots of a quadratic using this formula.\n",
    "\n",
    "Hint: You will have to use a conditional statement to deal with what happens if there are no real roots or the roots are equal."
   ]
  },
  {
   "cell_type": "code",
   "execution_count": null,
   "id": "f7aa8915-001e-4daf-ae38-86ddded0485f",
   "metadata": {},
   "outputs": [],
   "source": []
  },
  {
   "cell_type": "markdown",
   "id": "e3a34307-76d7-4f55-a43a-3f3451b26651",
   "metadata": {},
   "source": [
    "## Exercise 7\n",
    "Now that you know more about lists, revisit plots. Modify your plotting program like this:\n",
    "```python\n",
    "import matplotlib.pyplot as plt\n",
    "x = [1, 2, 3, 4, 5, 6, 7, 8]\n",
    "y = [1, 7, 3, 5, 12, 4.5, 2, 10]\n",
    "plt.plot(x, y)\n",
    "plt.show()\n",
    "```\n",
    "1. Modify your plotting program so that it will make a plot only of X[2:6] and Y[2:6].\n",
    "2. Modify your plotting program so that it will make a plot only of X[2:6] and Y[3:7].\n",
    "3. Modify your plotting program so that it will make a plot only of X[2:6] and Y[3:8]. Why doesn't this work?\n",
    "\n",
    "Hint: check how many values of x there are, then compute how many values of y"
   ]
  },
  {
   "cell_type": "code",
   "execution_count": null,
   "id": "0ee34b04-1615-4af9-9ce6-8a93663cd62e",
   "metadata": {},
   "outputs": [],
   "source": []
  }
 ],
 "metadata": {
  "kernelspec": {
   "display_name": "Python 3",
   "language": "python",
   "name": "python3"
  },
  "language_info": {
   "codemirror_mode": {
    "name": "ipython",
    "version": 3
   },
   "file_extension": ".py",
   "mimetype": "text/x-python",
   "name": "python",
   "nbconvert_exporter": "python",
   "pygments_lexer": "ipython3",
   "version": "3.9.1"
  }
 },
 "nbformat": 4,
 "nbformat_minor": 5
}
