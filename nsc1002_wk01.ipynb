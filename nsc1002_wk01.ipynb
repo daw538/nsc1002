{
 "cells": [
  {
   "cell_type": "markdown",
   "id": "8d864eec-e558-4e98-a6ac-353fe9a3305a",
   "metadata": {},
   "source": [
    "# Worksheet 1 - Introduction to Python\n",
    "\n",
    "By the end of the session you will (hopefully!):\n",
    "- Know what a program is\n",
    "- Know what a programming language is\n",
    "- Know what Python is\n",
    "- Know what Jupyter is, and how to use it to write simple computer programs\n",
    "- Know where to find information regarding installing Python onyour own machine\n",
    "- Understand what a data type is\n",
    "\n",
    "## What is a computer program?\n",
    "FYI: program == programme (we use both spellings; usually just program!)\n",
    "A program is just set of instructions that tells the computer what to do. Everything a computer does is done by writing and running computer programs. This includes all applications such as Microsoft Word, Spotify and Steam, and also web browsers such as Safari and Firefox. Further uses of computer programs include\n",
    "- Machine learning and artificial intelligence\n",
    "- Data analysis\n",
    "- Video games\n",
    "\n",
    "## What is a programming language?\n",
    "A computer programming language is a language used by humans to write a list of instructions (a program) to tell a computer what to do. All programs like Safari and Firefox are written by humans using a computer program. Examples of computer programming languages are: Python, C, C++, Fortran, Matlab, Mathematica, and many others\n",
    "\n",
    "## What is Python?\n",
    "Python is a particular programming language. In this part of the module we will use Python to create lists of in-structions to tell the computer what to do. This is called a Python program. Python is installed by downloading it from the internet as a package; most commonly as part of a distribution called [Anaconda](https://www.anaconda.com/products/distribution). The method of installation may vary depending on if you're running Windows, Mac or Linux. Anaconda is commonly used because it comes pre-packaged with a number of useful tools and editors for writing and running python scripts.\n",
    "\n",
    "Once you've installed Anaconda you'll notice in the launcher that there are a number of programs you can choose and launch -- the two we're interested in are **Jupyter Notebook** and **Jupyter Lab**. The two are very similar, both allowing you to write and run python code within your internet browser, but I'd recommend **Jupyter Lab** if it's available as it has a few more useful features. It's also possible to launch these programs from the command line by entering either `jupyter notebook` or `jupyter lab` (don't worry if this doesn't mean anything to you, the launcher method should work for you still!). The big advantage of writing python with jupyter is that the output of your code can be saved and shared with others to look at, and you can show text, code and outputs alongside each other in a single document (like this one)."
   ]
  },
  {
   "cell_type": "markdown",
   "id": "f6c5a703-a9cb-4e8e-a4f6-ab589bef92b4",
   "metadata": {},
   "source": [
    "## Getting started\n",
    "\n",
    "Once you've opened or started a new jupyter notebook, you'll be presented with a black box (known as a cell) in which you can type code or text. You can store separate bits of code in different blocks. To run a particular cell you can press `shift+enter` on your keyboard.\n",
    "\n",
    "Give it a try..."
   ]
  },
  {
   "cell_type": "code",
   "execution_count": 1,
   "id": "032e8485-5ec0-4540-a777-8aa491f53ba4",
   "metadata": {},
   "outputs": [
    {
     "name": "stdout",
     "output_type": "stream",
     "text": [
      "Hello world!\n"
     ]
    }
   ],
   "source": [
    "print('Hello world!')"
   ]
  },
  {
   "cell_type": "markdown",
   "id": "e3f5338b-5e1f-40e8-9a67-aeae45229b1f",
   "metadata": {},
   "source": [
    "Notice how the code runs and the output is displayed below the cell. Now try the following:"
   ]
  },
  {
   "cell_type": "code",
   "execution_count": 5,
   "id": "e6de2cc1-58d6-4758-bba8-af4b5f8ef3d9",
   "metadata": {},
   "outputs": [
    {
     "data": {
      "text/plain": [
       "5"
      ]
     },
     "execution_count": 5,
     "metadata": {},
     "output_type": "execute_result"
    }
   ],
   "source": [
    "3 + 2"
   ]
  },
  {
   "cell_type": "code",
   "execution_count": 6,
   "id": "6e417c17-71cc-4be2-85e0-f93573f09e88",
   "metadata": {},
   "outputs": [
    {
     "data": {
      "text/plain": [
       "5.0"
      ]
     },
     "execution_count": 6,
     "metadata": {},
     "output_type": "execute_result"
    }
   ],
   "source": [
    "3. + 2."
   ]
  },
  {
   "cell_type": "markdown",
   "id": "e25f987e-acd6-4716-ac67-c597b14d85f3",
   "metadata": {},
   "source": [
    "Notice the difference – one has a decimal, the other does not. This is because the first one has a data type of _int_ the other data type is a _float_ (we will cover this in more detail later). Now see what happens with the following operations:"
   ]
  },
  {
   "cell_type": "code",
   "execution_count": 7,
   "id": "5b07b91a-4f18-4881-a246-71a815372379",
   "metadata": {},
   "outputs": [
    {
     "data": {
      "text/plain": [
       "1"
      ]
     },
     "execution_count": 7,
     "metadata": {},
     "output_type": "execute_result"
    }
   ],
   "source": [
    "3//2"
   ]
  },
  {
   "cell_type": "code",
   "execution_count": 8,
   "id": "2832e503-f82e-43c9-9772-29a383ebcc89",
   "metadata": {},
   "outputs": [
    {
     "data": {
      "text/plain": [
       "1.5"
      ]
     },
     "execution_count": 8,
     "metadata": {},
     "output_type": "execute_result"
    }
   ],
   "source": [
    "3/2"
   ]
  },
  {
   "cell_type": "markdown",
   "id": "fe20c9e0-d9d3-49a8-9ba9-0733312f9479",
   "metadata": {},
   "source": [
    "The double forward stroke means _integer_ division, while a single stroke is for _floating point_ division which is what we usually want.\n",
    "\n",
    "It is possible to run multiple lines of code in the same cell. If we want to show each line as a separate output we can make use of the `print` function."
   ]
  },
  {
   "cell_type": "code",
   "execution_count": 9,
   "id": "9c99e733-1594-4f45-8934-33db6891c401",
   "metadata": {},
   "outputs": [
    {
     "name": "stdout",
     "output_type": "stream",
     "text": [
      "10\n",
      "3+7\n",
      "41\n",
      "323\n"
     ]
    }
   ],
   "source": [
    "print(3+7)\n",
    "print('3+7')\n",
    "print(3 + 5 * 8^2)\n",
    "print(3 + 5 * 8**2)"
   ]
  },
  {
   "cell_type": "markdown",
   "id": "e83b8422-170a-4f0c-bd13-751b90fb96f2",
   "metadata": {},
   "source": [
    "What do you notice about how the above four functions behave? Is there anything that surprised you or was unexpected? See if you can work out what is going on, but if you're unsure feel free to ask a demonstrator or look online (after all python is a widely used programming language and there's plenty of documentation and tutorials online).\n",
    "\n",
    "### Types and Variables\n",
    "\n",
    "You will have seen in the previous section the statement `'3+7'`, which when we executed produced the same result rather than performing any calculations. This is known as a _string_, and is marked out by a pair of \"\" or '' marks. The contents of the string will act like a bunch of letters rather than numbers or variables that can be calculated. A string is known as a _type_ in python, and we have already come across two others:\n",
    "- _int_ (integer number)\n",
    "- _float_ (floating point i.e. decimal number)\n",
    "\n",
    "There are many more types of variables in python, but we can easily check what each may be by using the `type` function, for example"
   ]
  },
  {
   "cell_type": "code",
   "execution_count": 13,
   "id": "37769f10-3105-4d8e-9bb9-17bc72ca1137",
   "metadata": {},
   "outputs": [
    {
     "name": "stdout",
     "output_type": "stream",
     "text": [
      "<class 'int'>\n",
      "<class 'float'>\n",
      "<class 'float'>\n",
      "<class 'str'>\n",
      "<class 'str'>\n"
     ]
    }
   ],
   "source": [
    "print(type(5))\n",
    "print(type(5.0))\n",
    "print(type(3+7.0))\n",
    "print(type('3+7'))\n",
    "print(type('Hello'))"
   ]
  },
  {
   "cell_type": "markdown",
   "id": "ad9a1b0b-2e21-4aee-b9ed-7aa5d9628111",
   "metadata": {},
   "source": [
    "Up to this point we have run a few simple lines of code, but we've not needed to reuse any of our results in future calculations. To do this we can introduce a _variable_ that can store any type of value, be it a float, string or something else. If the variable is an int or float, a number of operators can be used, including `+ - / * **`, but don't forget that order of operations matters, so you may need to include brackets for certain calculations."
   ]
  },
  {
   "cell_type": "code",
   "execution_count": 20,
   "id": "640ed68b-8201-4648-affc-56704b62d1fb",
   "metadata": {},
   "outputs": [],
   "source": [
    "A = 3\n",
    "B = 5\n",
    "C = 'Duck'"
   ]
  },
  {
   "cell_type": "code",
   "execution_count": 21,
   "id": "c83daf3b-16a8-48b5-b20f-b79faa662a1f",
   "metadata": {},
   "outputs": [
    {
     "name": "stdout",
     "output_type": "stream",
     "text": [
      "8\n",
      "Duck\n"
     ]
    }
   ],
   "source": [
    "print(A+B)\n",
    "print(C)"
   ]
  },
  {
   "cell_type": "markdown",
   "id": "f777dc6f-e0fb-4f94-b568-cfe252af7430",
   "metadata": {},
   "source": [
    "Strings can also be added together"
   ]
  },
  {
   "cell_type": "code",
   "execution_count": 22,
   "id": "662fb16a-2d6c-4d6c-99f6-f1338de9f2fd",
   "metadata": {},
   "outputs": [
    {
     "name": "stdout",
     "output_type": "stream",
     "text": [
      "Duckling\n"
     ]
    }
   ],
   "source": [
    "print(C+'ling')"
   ]
  },
  {
   "cell_type": "markdown",
   "id": "489e7fda-6407-43be-b41c-e374e6f92029",
   "metadata": {},
   "source": [
    "And variables can be converted between one type and another (within reason)"
   ]
  },
  {
   "cell_type": "code",
   "execution_count": 19,
   "id": "ef5050da-0487-43e7-8976-2e8f14cce372",
   "metadata": {},
   "outputs": [
    {
     "name": "stdout",
     "output_type": "stream",
     "text": [
      "5\n",
      "3\n"
     ]
    }
   ],
   "source": [
    "print(str(B))\n",
    "print(int(3.1415))"
   ]
  },
  {
   "cell_type": "markdown",
   "id": "63c8fe20-ba99-4b38-aaae-3d2b7e0a3d97",
   "metadata": {},
   "source": [
    "Another common data type you may come across is a _boolean_, which is a variable that has two options, true or false. It is known as a binary operator since the two options can represent 1 and 0. Run the cell below and see if you can work out what the == and != operators do."
   ]
  },
  {
   "cell_type": "code",
   "execution_count": 28,
   "id": "f83e1cd4-bd63-47cb-b34d-a8d10606010c",
   "metadata": {},
   "outputs": [
    {
     "name": "stdout",
     "output_type": "stream",
     "text": [
      "True\n",
      "False\n",
      "False\n",
      "<class 'bool'>\n"
     ]
    }
   ],
   "source": [
    "print(A == 3)\n",
    "print(10.0 != 10)\n",
    "print(B == C)\n",
    "print(type(False))"
   ]
  },
  {
   "cell_type": "markdown",
   "id": "8cd76fce-a417-490f-b7ca-007bbb7f1e85",
   "metadata": {},
   "source": [
    "### Errors in the code\n",
    "\n",
    "Sometimes you may find there is a typo in the code, or you have told the computer to do something that may not be correct. In either case, python may throw up an error and your code won't run. In most cases a description will be provided about the error which can provide a hint as to how to fix it.\n",
    "\n",
    "The most common sort of error is likely to be a _syntax error_, which usually occurs when a set of quotation marks or parentheses have been left unbalanced. Run the code below and see what happens."
   ]
  },
  {
   "cell_type": "code",
   "execution_count": 24,
   "id": "a3a56f3a-8fd2-481c-978a-df817da96d47",
   "metadata": {},
   "outputs": [
    {
     "ename": "SyntaxError",
     "evalue": "EOL while scanning string literal (<ipython-input-24-cd176df52683>, line 1)",
     "output_type": "error",
     "traceback": [
      "\u001b[0;36m  File \u001b[0;32m\"<ipython-input-24-cd176df52683>\"\u001b[0;36m, line \u001b[0;32m1\u001b[0m\n\u001b[0;31m    print('Bob)\u001b[0m\n\u001b[0m               ^\u001b[0m\n\u001b[0;31mSyntaxError\u001b[0m\u001b[0;31m:\u001b[0m EOL while scanning string literal\n"
     ]
    }
   ],
   "source": [
    "print('Bob)"
   ]
  },
  {
   "cell_type": "markdown",
   "id": "db604f10-376d-4043-97bd-eb50dde80f1e",
   "metadata": {},
   "source": [
    "Here EOL refers to 'end of line' and we can see there is a missing ' in the code. Again if you're unsure ask a demonstrator or look online.\n",
    "\n",
    "___"
   ]
  },
  {
   "cell_type": "markdown",
   "id": "68221e91-a408-45ef-abc5-c183e6bec7b4",
   "metadata": {},
   "source": [
    "## Exercise 1\n",
    "\n",
    "Write a program in the space below that will calculate and print out the circumference of a circle for 5 different radii: r=1.0, 20.0, 65.0, 70.0 and 100.0. In case you have forgotten, the formula for the circumference of a circle is $c = 2πr$."
   ]
  },
  {
   "cell_type": "code",
   "execution_count": null,
   "id": "9e3e6f60-64bf-4404-b9bf-6d9be983ca87",
   "metadata": {},
   "outputs": [],
   "source": []
  },
  {
   "cell_type": "markdown",
   "id": "28c75e21-36cf-4e3b-8887-ce7dfcfbb671",
   "metadata": {},
   "source": [
    "## Exercise 2\n",
    "\n",
    "Write a program that converts temperatures from Celsius to Fahrenheit. In case you have forgotten, degrees Fahrenheit are obtained by multiplying degrees Celsius by 9/5\n",
    "and adding 32.\n",
    "\n",
    "$$F = \\frac{9}{5}C + 32$$\n",
    "\n",
    "Your program should start with a variable that is initialised to the temperature in Celsius; then set another variable equal to  the temperature in Fahrenheit and print the result (with an explanatory message)."
   ]
  },
  {
   "cell_type": "code",
   "execution_count": null,
   "id": "0973ac89-1f81-41de-99b3-0861265ec9d0",
   "metadata": {},
   "outputs": [],
   "source": []
  }
 ],
 "metadata": {
  "kernelspec": {
   "display_name": "Python 3",
   "language": "python",
   "name": "python3"
  },
  "language_info": {
   "codemirror_mode": {
    "name": "ipython",
    "version": 3
   },
   "file_extension": ".py",
   "mimetype": "text/x-python",
   "name": "python",
   "nbconvert_exporter": "python",
   "pygments_lexer": "ipython3",
   "version": "3.9.1"
  }
 },
 "nbformat": 4,
 "nbformat_minor": 5
}
