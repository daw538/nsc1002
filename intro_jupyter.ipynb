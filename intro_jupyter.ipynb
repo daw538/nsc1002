{
 "cells": [
  {
   "cell_type": "markdown",
   "id": "897e890b-3eb2-4e3f-a916-0b4a7fbef33c",
   "metadata": {},
   "source": [
    "# Introduction to python with Jupyter ![alt text](http://infinity77.net/global_optimization/_images/python_logo.png \"Python logo\")\n",
    "\n",
    "So far you've likely used a program like Spyder to write and run your code. Spyder looks quite like a familiar text editor with a few extra features that show the code output for example in the corner of the window. If you have anaconda installed and open the launcher window, you may notice a few other options besides Spyder, such as **Jupyter Notebook** and **Jupyter Lab**. These two options are quite similar, allowing you also to write and run python scripts. The workflow is slightly different but there are a number of extra (but very useful) features that Spyder doesn't have.\n",
    "\n",
    "You can launch either of the Jupyter programs from the anaconda launcher, or alternatively from the command line with either `jupyter notebook` or `jupyter lab`. The choice of which to use is entirely yours, but I would recommend using **Jupyter Lab** (if you have it installed) as it has a few advantages - both function very similarly though so I wouldn't worry too much. One big advantage is you can run your code and send the complete notebook to someone else: they can view your results without having to rerun the whole code, which is exactly what you are doing now!\n",
    "\n",
    "### Launching Jupyter\n",
    "\n",
    "When you launch Jupyter via any of the above methods, a new tab will open in your internet browser that you will use to edit your code. As long as you keep this tab open then you can write and execute your code. Below this text you can see some common python modules have been imported."
   ]
  },
  {
   "cell_type": "code",
   "execution_count": 1,
   "id": "ccb56b11-8458-4876-9b53-d4bdf5411b87",
   "metadata": {},
   "outputs": [],
   "source": [
    "import numpy as np\n",
    "import pandas as pd\n",
    "import matplotlib.pyplot as plt"
   ]
  },
  {
   "cell_type": "markdown",
   "id": "223b956e-9638-4822-bfb2-a3e3977b4410",
   "metadata": {},
   "source": [
    "Unlike in Spyder, where the code might be written as one large block, in Jupyter we can chop the code into bitesize chunks called _cells_; each of which can be independently run as and when required. To run a particular cell you can press `Shift+Return` on your keyboard, which will then move down to the cell below (it's also possible to run all the code together, as you might in Spyder). In the cell below we might define a function..."
   ]
  },
  {
   "cell_type": "code",
   "execution_count": 5,
   "id": "2f40cc60-7700-44ed-9a21-4e8730b7cc59",
   "metadata": {},
   "outputs": [],
   "source": [
    "def gaussian(x,mu=0,sigma=1):\n",
    "    \"\"\"Creates probability density function (pdf) of a Gaussian (normal) \n",
    "       distribution given:\n",
    "            x - input array of values\n",
    "            mu - mean value\n",
    "            sigma - variance\n",
    "       In the absence of mu and sigma a standard normal distribution is created.\n",
    "    \"\"\"\n",
    "    return 1/(sigma * np.sqrt(2*np.pi)) * np.exp(-(x-mu)**2/(2*sigma**2))   "
   ]
  },
  {
   "cell_type": "code",
   "execution_count": 6,
   "id": "2be58952-63a9-4423-9850-4c70c2e81fc8",
   "metadata": {},
   "outputs": [],
   "source": [
    "x = np.arange(-10,10,0.01)\n",
    "mu = 3.0\n",
    "sigma = 0.75"
   ]
  },
  {
   "cell_type": "code",
   "execution_count": 18,
   "id": "75827edc-58d5-4dc5-beb9-1248230bbe84",
   "metadata": {},
   "outputs": [
    {
     "data": {
      "image/png": "[encoded data removed]",
      "text/plain": [
       "<Figure size 432x288 with 1 Axes>"
      ]
     },
     "metadata": {
      "needs_background": "light"
     },
     "output_type": "display_data"
    }
   ],
   "source": [
    "plt.figure(1, figsize=(6,4))\n",
    "plt.plot(x, gaussian(x,mu,sigma)) # y values given by funcion\n",
    "plt.xlabel('Value')\n",
    "plt.ylabel('Probability Density \\n Function')\n",
    "plt.title(f'Gaussian Distribution $X\\sim N({mu},{sigma})$')\n",
    "plt.show()\n",
    "# \\n in string allows a new line to be printed"
   ]
  },
  {
   "cell_type": "markdown",
   "id": "051d2770-6f8f-44a1-a901-e9430e0cd53f",
   "metadata": {},
   "source": [
    "Notice how the resulting plot above is embedded directly below the code that created it, making the code and results easier to follow. If you don't like this behaviour, it's perfectly possible to view plots in their own window making use of _magic commands_. \n",
    "\n",
    "### Magic commands\n",
    "\n",
    "'Magics' are special commands that are not python, but you can still run with your code. They can perform very useful tasks such as:\n",
    " - list all the current variables\n",
    " - run external scripts\n",
    " - time the length of a piece of code\n",
    " - change matplotlib window settings\n",
    " \n",
    "You can find a list of all the possible magic commands by running `%lsmagic` in your code (all start with a % symbol). Below we test how long it can take to create a million random numbers."
   ]
  },
  {
   "cell_type": "code",
   "execution_count": 19,
   "id": "a5770ca0-3940-4632-b8b1-1780ed31571b",
   "metadata": {},
   "outputs": [
    {
     "name": "stdout",
     "output_type": "stream",
     "text": [
      "CPU times: user 152 ms, sys: 763 µs, total: 153 ms\n",
      "Wall time: 152 ms\n"
     ]
    }
   ],
   "source": [
    "%%time\n",
    "import random\n",
    "for i in range(0, 1000000):\n",
    "    random.random()"
   ]
  },
  {
   "cell_type": "markdown",
   "id": "f56407ec-aedb-49c8-a56e-ca9fcab15be3",
   "metadata": {},
   "source": [
    "If you make use of the package pandas in your work, Juypter will also display these in a nice neat table, likely easier to read than what you might see in Spyder."
   ]
  },
  {
   "cell_type": "code",
   "execution_count": 21,
   "id": "08828afd-fa58-408a-9b68-c07d0a3a9c3e",
   "metadata": {},
   "outputs": [
    {
     "data": {
      "text/html": [
       "<div>\n",
       "<style scoped>\n",
       "    .dataframe tbody tr th:only-of-type {\n",
       "        vertical-align: middle;\n",
       "    }\n",
       "\n",
       "    .dataframe tbody tr th {\n",
       "        vertical-align: top;\n",
       "    }\n",
       "\n",
       "    .dataframe thead th {\n",
       "        text-align: right;\n",
       "    }\n",
       "</style>\n",
       "<table border=\"1\" class=\"dataframe\">\n",
       "  <thead>\n",
       "    <tr style=\"text-align: right;\">\n",
       "      <th></th>\n",
       "      <th>country</th>\n",
       "      <th>captial</th>\n",
       "      <th>pop</th>\n",
       "      <th>cur</th>\n",
       "    </tr>\n",
       "  </thead>\n",
       "  <tbody>\n",
       "    <tr>\n",
       "      <th>0</th>\n",
       "      <td>United Kingdom</td>\n",
       "      <td>London</td>\n",
       "      <td>67081000</td>\n",
       "      <td>GBP</td>\n",
       "    </tr>\n",
       "    <tr>\n",
       "      <th>1</th>\n",
       "      <td>France</td>\n",
       "      <td>Paris</td>\n",
       "      <td>67413000</td>\n",
       "      <td>EUR</td>\n",
       "    </tr>\n",
       "    <tr>\n",
       "      <th>2</th>\n",
       "      <td>Netherlands</td>\n",
       "      <td>Amsterdam</td>\n",
       "      <td>17689700</td>\n",
       "      <td>EUR</td>\n",
       "    </tr>\n",
       "    <tr>\n",
       "      <th>3</th>\n",
       "      <td>Russia</td>\n",
       "      <td>Moscow</td>\n",
       "      <td>143054637</td>\n",
       "      <td>RUB</td>\n",
       "    </tr>\n",
       "    <tr>\n",
       "      <th>4</th>\n",
       "      <td>Japan</td>\n",
       "      <td>Tokyo</td>\n",
       "      <td>125440000</td>\n",
       "      <td>JPY</td>\n",
       "    </tr>\n",
       "  </tbody>\n",
       "</table>\n",
       "</div>"
      ],
      "text/plain": [
       "          country    captial        pop  cur\n",
       "0  United Kingdom     London   67081000  GBP\n",
       "1          France      Paris   67413000  EUR\n",
       "2     Netherlands  Amsterdam   17689700  EUR\n",
       "3          Russia     Moscow  143054637  RUB\n",
       "4           Japan      Tokyo  125440000  JPY"
      ]
     },
     "execution_count": 21,
     "metadata": {},
     "output_type": "execute_result"
    }
   ],
   "source": [
    "countries = ['United Kingdom', 'France', 'Netherlands', 'Russia', 'Japan']\n",
    "capitals = ['London', 'Paris', 'Amsterdam', 'Moscow', 'Tokyo']\n",
    "population = [67081000, 67413000, 17689700, 143054637, 125440000]\n",
    "currencies = ['GBP', 'EUR', 'EUR', 'RUB', 'JPY']\n",
    "\n",
    "data = {'country': countries,\n",
    "        'captial': capitals,\n",
    "        'pop': population,\n",
    "        'cur': currencies}\n",
    "\n",
    "df = pd.DataFrame(data)\n",
    "df"
   ]
  },
  {
   "cell_type": "markdown",
   "id": "ebf70ce4-48c8-4db1-b870-1131f93f8ee9",
   "metadata": {},
   "source": [
    "## Markdown\n",
    "\n",
    "You will have likely noticed that in this notebook that there is a mix of both code and typed text, something which is a unique feature to Jupyter. We can do this by using **Markdown**, which is a simple text editor that you can use to include various types of text formatting. Any cell can be changed into a markdown cell by selecting from the dropdown at the top of the code screen (or selecting the cell and pressing `m`).\n",
    "\n",
    "If you double click on any of the markdown cells in this document, you should be able to see some examples of how I have formatted the text in the notebook. Other things you can do with it include hyperlinks to websites, such as this Markdown [cheatsheet](https://github.com/adam-p/markdown-here/wiki/Markdown-Cheatsheet#html \"Github Markdown reference page\"); but also rendered $\\LaTeX$ code, for example our equation for the Gaussian distribution earlier.\n",
    "\n",
    "$$ f\\left(x\\right) = \\frac{1}{\\sigma\\sqrt{2\\pi}} e^{-\\frac{\\left(x-\\mu\\right)^2}{2\\sigma^2}}$$\n",
    "\n",
    "and so on...\n",
    "\n",
    "I hope this has been a useful introduction into both Jupyter and Markdown, both of which can be used together to create some very readable and reproducible code."
   ]
  }
 ],
 "metadata": {
  "kernelspec": {
   "display_name": "Python 3 + Jaspy",
   "language": "python",
   "name": "jaspy"
  },
  "language_info": {
   "codemirror_mode": {
    "name": "ipython",
    "version": 3
   },
   "file_extension": ".py",
   "mimetype": "text/x-python",
   "name": "python",
   "nbconvert_exporter": "python",
   "pygments_lexer": "ipython3",
   "version": "3.8.12"
  }
 },
 "nbformat": 4,
 "nbformat_minor": 5
}
