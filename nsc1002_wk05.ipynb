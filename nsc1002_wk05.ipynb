{
 "cells": [
  {
   "cell_type": "markdown",
   "id": "06872a16-7d90-4a07-8026-5a17abed6fec",
   "metadata": {},
   "source": [
    "# Worksheet 5 - Functions, Modules & Inputs\n",
    "\n",
    "Goals:\n",
    "- To write Python programs that accept simple inputs from the User;\n",
    "- To know what SciPy and NumPy are.\n",
    "- To understand what a function is;\n",
    "- To be able to write and use your own Python functions; You should ensure that you have completed all exercises before the next workshop\n",
    "\n",
    "___\n",
    "\n",
    "## Accepting user input from the terminal\n",
    "To accept user input from the terminal you need use the function input. To demonstrate this, type the following into your editor:\n",
    "\n",
    "```python\n",
    "d = input(\"Please enter a number between 1 and 10: \")\n",
    "print(f\"You typed in the number {d}\")\n",
    "print(type(d))\n",
    "```\n",
    "\n",
    "## Introduction to NumPy and SciPy\n",
    "NumPy and SciPy are modules written specifically for performing mathematical and numerical operations. NumPy (Numeric Python) provides powerful, fast ways of handling large multidimensional arrays and matrices of numeric data. SciPy (Scientific Python) extends NumPy with additional functionality, including some standard algorithms. In this workshop we’ll be working with NumPy. To include NumPy and SciPy routines in your programs you use the key word import. There are many ways to use the import key word but the two main ways we will do so is:\n",
    "\n",
    "```python\n",
    "import numpy\n",
    "or\n",
    "import numpy as np\n",
    "```\n",
    "\n",
    "When you access NumPy functions, you will be required to type: `numpy.<functionname¡` or `np.<functionname¡` For example, if you wanted to use NumPy’s function for the mean of a sequence, you would use the syntax `numpy.mean()`. If you import numpy the second way, you would refer to it as `np.mean()`.\n",
    "\n",
    "One of the important aspects of NumPy is its ability to create and manipulate arrays, including multidimensional arrays, which we shall study later this term. A NumPy array can be created from a list shown below\n",
    "\n",
    "```python\n",
    "import numpy as np\n",
    "a = np.array([1, 2, 4, 7])\n",
    "b = np.array([1, 2, 4, 7], float)\n",
    "print(b)\n",
    "print(type(b), type(b[2]))\n",
    "```\n",
    "\n",
    "This will produce the following output: `[1. 2. 4. 7.] <class ’numpy.ndarray’> <class ’numpy.float64’>`\n",
    "\n",
    "What will it produce for ?\n",
    "- `print(a)`\n",
    "- `print(type(a), type(b[2])`\n",
    "\n",
    "There are numerous ways to create numpy arrays: look up the following numpy functions using a search engine:\n",
    "1. `a = np.arange([start,] stop, [step,] dtype=None)`: This function returns an array, $a$, of evenly spaced values in an interval defined by start and stop. \\<start> and \\<step> are optional\n",
    "(default are 0 and 1 respectively)\n",
    "2. `a = np.ones(N)`: This function will return an array of size $N$ filled with ones. This is useful for initialisation!\n",
    "3. `a = np.random.rand(N)`: This function will return an array of size $N$ filled with random numbers over \\[0, 1). This is useful for initialisation!\n",
    "4. `a = np.zeros(N)`: This function returns an array of size $N$ filled with zeros. Also useful for initialisation.\n",
    "\n",
    "NumPy array elements can be accessed just like Python lists: indexed, sliced, and manipulated.\n",
    "\n",
    "## Creating a function\n",
    "In programming, we often need to repeat sections of code many times. Python, and other programming languages, have the capacity to treat such sections of code in a special way so they can be easily repeated. In some programming languages these are called subroutines. In Python they are called _functions_.\n",
    "\n",
    "A function is a collection of statements that performs a task.\n",
    "- Allows us to combine multiple statements into one instruction.\n",
    "- Can allow us to repeat and modularize sections of code.\n",
    "- Python has a number of inbuilt functions. Examples include: `abs()`, `print()`, `str()`, `int()`, `range()`...\n",
    "- NumPy has a collection of functions we can use to manipulate\n",
    "arrays. Examples include: `np.arange()`, `np.mean()`, `np.zeros()`..."
   ]
  },
  {
   "cell_type": "markdown",
   "id": "ea103c44-ac40-4088-96c0-8275c9882941",
   "metadata": {},
   "source": [
    "## General functions\n",
    "The following figure illustrates the syntax for creating a function more generally — see below for a diagram of a particular function example.\n",
    "\n",
    "```python\n",
    "def function_name(parameters):\n",
    "    \"\"\"\n",
    "    Documentation string (called a docstring)\n",
    "    \"\"\"\n",
    "    block of code\n",
    "    return result\n",
    "```\n",
    "\n",
    "<img src=\"Functions.png\" alt=\"Figure 3b\" width=\"400\"/>\n",
    "\n",
    "## Creating and using functions: the structure of a Python code that uses functions\n",
    "Functions must be defined before they are used. Good style when writing a program is to put all your initialisations at the top, the definitions right after so that they are easy to find. See the example, below.\n",
    "\n",
    "```python\n",
    "import ...\n",
    "# Functions\n",
    "def myfun_1(x1):\n",
    "    \"\"\"\n",
    "    Describe what the first function does.\n",
    "    \"\"\"\n",
    "    statements\n",
    "    return\n",
    "pass\n",
    "\n",
    "def myfun_2(x2):\n",
    "    \"\"\"\n",
    "    Describe what the second function does.\n",
    "    \"\"\"\n",
    "    statements\n",
    "    return\n",
    "pass\n",
    "\n",
    "# Body of the code (uses initialisations and functions)\n",
    "# Initialisations\n",
    "x1 = 1.\n",
    "x2 = 32.4\n",
    "a = np.arange(10.)\n",
    "\n",
    "# Loop calling function\n",
    "for i in a:\n",
    "    print(myfun_1(i), myfun_2(a[2]))\n",
    "```\n",
    "\n",
    "## Appendix: What is a namespace and why is it important when using functions?\n",
    "The concept of a namespace is used widely in computer programming because it assigns collections of names (variables, function names, etc) to a specific parts of a program. Some examples:\n",
    "- You can use the function `print()` in any part of your program because that function belongs to any program written in the Python computing language.\n",
    "- The function `array` is part of numpy and is only available though `numpy.array` or `np.array` (depending on how you first initialized numpy).\n",
    "- A local namespace is created when a function is called. This local namespace allows you to define variables in the function that are not seen in other parts of the program. For example, if we assign the variable $b = 2$ in a new function, our `main()` routine would not recognise that variable. We shall look at examples in the workshop exercises.\n",
    "\n",
    "This concept is important when programming because variables with the same name can be defined throughout a program, but knowing that functions have their own local namespace makes it clear that variables defined within a function live only within that function. This helps to write clear, reproducible code, and also helps with debugging.\n",
    "\n",
    "___"
   ]
  },
  {
   "cell_type": "code",
   "execution_count": 1,
   "id": "31bf1a19-5b42-4497-ba29-469f7eec66f7",
   "metadata": {},
   "outputs": [],
   "source": [
    "# Space to import useful packages, e.g. numpy"
   ]
  },
  {
   "cell_type": "markdown",
   "id": "3dfe3f87-9a38-471c-88ce-4449977df5b0",
   "metadata": {},
   "source": [
    "## Exercise 1\n",
    "Create the following two arrays:\n",
    "```python\n",
    "x1 = np.arange(0., 2. * np.pi, (2. * np.pi) / 20.)\n",
    "x2 = np.arange(0., 4. * np.pi, (4. * np.pi) / 10.)\n",
    "print(len(x1),len(x2))\n",
    "```\n",
    "1. Is the size of the x1 array equal to the size of the x2 array?\n",
    "\n",
    "_Hint: Use the shape attribute of x1 and x2. (e.g. `print(x1.shape)`) or `np.shape(x1)`._\n",
    "\n",
    "2. Which one is longer and why? _Hint: Look up the syntax for `np.arange` online and examine each of the attributes carefully._\n",
    "3. What would you have to change so that they are equal?\n",
    "4. Write a function that computes the value of $ax+bx^2$ for arbitrary values of $a$, $b$ and $x$, and call it ‘quadfunc' or similar. Make sure it works by calling `quadfunc(1,2,3)` – your answer should be 21. (Why?)\n",
    "5. Using matplotlib, make a plot of `quadfunc(a,b,x)` for $a=1, b=12$ and $x$ going from 0 to 10."
   ]
  },
  {
   "cell_type": "code",
   "execution_count": null,
   "id": "5cc839bc-e045-453f-9c24-bb07b994271a",
   "metadata": {},
   "outputs": [],
   "source": []
  },
  {
   "cell_type": "markdown",
   "id": "257b1c0f-7e95-408b-94ca-dbaee8a46c24",
   "metadata": {},
   "source": [
    "## Exercise 2\n",
    "Below is a section of code for a function that reads in user input and computes the circumference of a circle. Copy this code and run it. Compute the circumference of a circle for radii of 2, 5, 12, and 42.\n",
    "```python\n",
    "import numpy as np\n",
    "def circumference():\n",
    "    \"\"\"\n",
    "    A function that calculates and displays the circumference of a\n",
    "    circle with a diameter d where d is float given by the user.\n",
    "    \"\"\"\n",
    "    d = np.float(input('Please enter the diameter of your circle'))\n",
    "    total = np.pi * d\n",
    "    print(f'The circumference of your circle is {total}')\n",
    "pass\n",
    "\n",
    "circumference()\n",
    "```\n",
    "\n",
    "1. Update the code so that the function returns the circumference.\n",
    "\n",
    "_Hint: in the function, add a line at the end that says return and the variable which holds the circumference._\n",
    "\n",
    "2. Update the code so that the function has an input parameter, in-stead of asking for a number when you are running the function.\n",
    "3. Introduce a syntax error by removing one of the `\"\"\"` (i.e., the Docstring triple quotation marks). Do you understand the error message? The reason we introduce errors ourselves is so that we learn the meaning of the different types of error messages."
   ]
  },
  {
   "cell_type": "code",
   "execution_count": null,
   "id": "f9169005-cff3-44ec-b0d7-b9dc62a34bb6",
   "metadata": {},
   "outputs": [],
   "source": []
  },
  {
   "cell_type": "markdown",
   "id": "2d3a801e-17ae-4fe8-8d6d-1766a7492e2d",
   "metadata": {},
   "source": [
    "## Exercise 3\n",
    "Investigate `np.linspace` and `np.arange` using a search engine. Write a program that uses both of these functions to produce two arrays of 10 values each. The values should be between -1 and 1. What do you need to do so that both functions give the same answer?"
   ]
  },
  {
   "cell_type": "code",
   "execution_count": null,
   "id": "6d3e70d7-439f-40bb-ae65-6e86c8bec03e",
   "metadata": {},
   "outputs": [],
   "source": []
  },
  {
   "cell_type": "markdown",
   "id": "a1f0232e-8a2b-475b-9750-305a6aa50b72",
   "metadata": {},
   "source": [
    "## Exercise 4\n",
    "Write a function that prints out ‘Hello’ $x$ number of times where $x$ is given by the user. \n",
    "\n",
    "_Hint: consider using a similar structure to that of your circumference program._"
   ]
  },
  {
   "cell_type": "code",
   "execution_count": null,
   "id": "4809bb50-00ca-4868-a79e-53adbdbbfe64",
   "metadata": {},
   "outputs": [],
   "source": []
  },
  {
   "cell_type": "markdown",
   "id": "2296f767-7d7b-4bad-87a8-7ef47c8823fa",
   "metadata": {},
   "source": [
    "## Exercise 5\n",
    "Write a function that takes in two integers from the user, $x$ and $y$ and calculates whether $x$ is divisible by $y$ (i.e., no remainder is left). A suitable message should be given to the user."
   ]
  },
  {
   "cell_type": "code",
   "execution_count": null,
   "id": "4a0158c4-458b-4f30-a051-4bb35b5108a8",
   "metadata": {},
   "outputs": [],
   "source": []
  },
  {
   "cell_type": "markdown",
   "id": "97d27d24-8817-4761-b0ec-b613bb548714",
   "metadata": {},
   "source": [
    "## Exercise 6\n",
    "Write a function that prints out the first $x$ numbers of the Fibonacci sequence where $x$ is given by the user.\n",
    "\n",
    "_Hint: You created a program that computed the Fibonacci numbers. Use this program as a basis for your new function._"
   ]
  },
  {
   "cell_type": "code",
   "execution_count": null,
   "id": "2befa698-3b0c-4033-a840-458fa93e09e1",
   "metadata": {},
   "outputs": [],
   "source": []
  },
  {
   "cell_type": "markdown",
   "id": "f5ea8d13-b76f-4e62-8a9e-e2fc4fc14f38",
   "metadata": {},
   "source": [
    "## Exercise 7\n",
    "Copy your code from Workshop 3 that was use to calculate weight on the moon and convert it into a function that performs the same task.\n",
    "1. Edit the function so that the user is prompted to enter how much weight they gain each year.\n",
    "2. Edit the function so that the user is also prompted for how many years they are planning on visiting the moon.\n",
    "\n",
    "_Hint: create a function that does the same thing as the original code in Workshop 3, then call the function. This is a structure just like the circumference program._"
   ]
  },
  {
   "cell_type": "code",
   "execution_count": null,
   "id": "6de7d8f6-0031-41c8-98dd-a3a41bd6dfde",
   "metadata": {},
   "outputs": [],
   "source": []
  }
 ],
 "metadata": {
  "kernelspec": {
   "display_name": "Python 3",
   "language": "python",
   "name": "python3"
  },
  "language_info": {
   "codemirror_mode": {
    "name": "ipython",
    "version": 3
   },
   "file_extension": ".py",
   "mimetype": "text/x-python",
   "name": "python",
   "nbconvert_exporter": "python",
   "pygments_lexer": "ipython3",
   "version": "3.9.1"
  }
 },
 "nbformat": 4,
 "nbformat_minor": 5
}
