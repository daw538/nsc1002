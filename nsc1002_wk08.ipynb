{
 "cells": [
  {
   "cell_type": "markdown",
   "id": "34b6e022-76ac-49b8-a4f7-6afef5cc550b",
   "metadata": {},
   "source": [
    "# Worksheet 8 - Numerical Integration\n",
    "\n",
    "## Introduction\n",
    "In this workshop we will learn about numerical integration, and write a Python code to do just that. The main ideas of this workshop starts in Section 3.\n",
    "\n",
    "## Passing functions as arguments and multidimensional arrays,\n",
    "This section gives some examples, mainly for reference. You can skip it and refer back to it later as needed, or try them out now.\n",
    "\n",
    "### Passing functions as arguments to other functions - example:\n",
    "```python\n",
    "import numpy as np\n",
    "\n",
    "def f1(x):\n",
    "    return np.exp(-x) * np.cos(2*np.pi*x)\n",
    "def f2(x):\n",
    "    return np.cos(x)\n",
    "def f3(x):\n",
    "    return np.sin(x)\n",
    "def addfunctions(fa, fb, x):\n",
    "    return fa(x) + fb(x)\n",
    "\n",
    "N = 12\n",
    "x = np.linspace(0, 1, N)\n",
    "print(’Add functions ’, addfunctions(f1, f2, x[4]), f1(x[4]) +\n",
    "f2(x[4]))\n",
    "```\n",
    "\n",
    "### Multidimensional arrays - example:\n",
    "```python\n",
    "import numpy as np\n",
    "import matplotlib.pyplot as plt\n",
    "Nx = 12\n",
    "x = np.linspace(0., np.pi, Nx)\n",
    "Ny = 2\n",
    "y = np.linspace(0., 2., Ny)\n",
    "#\n",
    "# The following array has Nx rows and Ny columns\n",
    "#\n",
    "SinesAtGridPoints = np.zeros((Nx,Ny))\n",
    "print(SinesAtGridPoints)\n",
    "for i in range(Nx):\n",
    "    for j in range(Ny):\n",
    "        SinesAtGridPoints[i,j] = np.sin(x[i])*np.sin(y[j])\n",
    "        \n",
    "plt.plot(x,SinesAtGridPoints[:,1])\n",
    "plt.show()\n",
    "```"
   ]
  },
  {
   "cell_type": "markdown",
   "id": "dcb1945a-3afd-4f02-b167-21775d5642ab",
   "metadata": {},
   "source": [
    "## Introduction to numerical integration:\n",
    "We now consider taking discrete integrals of mathematical functions. Suppose we need to compute the integral of a function over a particular interval,\n",
    "\n",
    "$$ \\int_a^b \\left(x\\right)\\;\\textrm{dx}, \\qquad \\forall \\quad x \\in \\mathbb{R} $$\n",
    "\n",
    "This is a continuous integral of a mathematical function $f(x)$ from $x = a$ to $x = b$ where $x$ is in the set of all real numbers (that is what $\\forall$ (for all) $x \\in \\mathbb{R}$ means!). At its most basic level, an integral is the area under a curve and that is what we shall calculate.\n",
    "\n",
    "We wish to approximate this integral when we have a discrete set of points rather than continuously. As a first approximation, we evaluate the function $f$ at fixed, equally spaced points, ($x_0, x_1, x_2, \\dots, x_N$) where the x location can be defined $x_k = x_0 + k_h$, where $h = \\frac{1}{N}\\left(x_N − x_0\\right)$ is the interval size. Figure 1 shows an example function $f(x)$ divided into equal intervals. Each interval approximates the value of the integral as piecewise constants. Then we can approximate the integral of the function as a sum of the areas of the rectangles, namely the base times height:\n",
    "\\begin{align}\n",
    "    \\int_a^b \\left(x\\right)\\;\\textrm{dx} &\\approx f(x_0)h + f(x_1)h + f(x_2)h + f(x_3)h + f(x_4)h \\\\\n",
    "    &= \\sum_{k=0}^{N-1} \\left(x_k\\right) h\n",
    "\\end{align}\n",
    "Because $h$ is constant it can be taken out of the sum, and approximate integral is written,\n",
    "\n",
    "$$ \\int_a^b \\left(x\\right)\\;\\textrm{dx} \\approx h \\sum_{k=0}^{N-1} \\left(x_k\\right) = h \\sum_{k=0}^{N-1} \\left(f_k\\right) $$\n",
    "\n",
    "where we have introduced a convenient notation: $f(x_k) = f_k$. Consider the errors made with this approximation: the first interval in Figure 1 under-predicts the area under the curve while the second interval over-predicts it. This approximation can be written as an algorithm with pseudocode (pseudocode is, essentially, code in English, without regard to the syntax or grammar of a particular language).\n",
    "```\n",
    "Define N equally spaced points, with h the interval between the points\n",
    "\n",
    "Initialize the value of the integral called IntegralOfF = 0\n",
    "\n",
    "for k less than N\n",
    "    IntegralOfF = IntegralOfF + f(xk)\n",
    "IntegralOfF = IntegralOfF*h\n",
    "print out the value of the IntegralOfF\n",
    "```\n",
    "\n",
    "<img src=\"IntegrationConstant.png\" alt=\"Figure 2: Piecewise integration\" width=\"400\"/>"
   ]
  },
  {
   "cell_type": "markdown",
   "id": "cef3f79f-7e0d-48bf-85bd-8d679b7d5e0a",
   "metadata": {},
   "source": [
    "### Program 1 - Piecewise integration\n",
    "```python\n",
    "# This is a python program to evaluate any function by\n",
    "# approximating it as piecewise constants\n",
    "import numpy as np\n",
    "import pylab as plt\n",
    "\n",
    "N = 6\n",
    "a = 0.\n",
    "b = 2.\n",
    "x = np.linspace(a, b, N)\n",
    "h = x[1] - x[0]\n",
    "\n",
    "def FunctionWeWishToIntegrate(x):\n",
    "    \"\"\" This is the function over the interval [a,b] to integrate \"\"\"\n",
    "    return np.sin(2*x)+np.cos(4*x)\n",
    "\n",
    "def ExactValue():\n",
    "    \"\"\" This function returns the exact value of the integral\"\"\"\n",
    "    return 1.07416137208765\n",
    "\n",
    "# Make a plot to see if the function looks like you expect it to.\n",
    "plt.plot(x,FunctionWeWishToIntegrate(x))\n",
    "plt.show()\n",
    "\n",
    "# Is N = 6 points enough to represent the function?\n",
    "# Next Preform the integral\n",
    "\n",
    "# Initialize\n",
    "IntegralOfTheFunction = 0\n",
    "# Loop over the sum\n",
    "for k in range(N):\n",
    "    IntegralOfTheFunction += FunctionWeWishToIntegrate(x[k])\n",
    "    \n",
    "# Multiply by the interval length\n",
    "IntegralOfTheFunction = IntegralOfTheFunction * h\n",
    "\n",
    "# Test how well we’ve done\n",
    "print(’Error = ’, IntegralOfTheFunction - ExactValue() )\n",
    "```"
   ]
  },
  {
   "cell_type": "markdown",
   "id": "f4b2c8e9-fdd9-4462-836c-4980a955211f",
   "metadata": {},
   "source": [
    "## Trapezium (or Trapezoidal) Rule\n",
    "There are other, sometimes better, methods to approximate integrals. These methods have varying degrees of accuracy for different types of functions. In this section we consider a very useful approximation method called the Trapezium Rule or the Trapezoidal Rule. The Trapezium rule approximates the function $f(x)$ as a piecewise linear function rather than a piecewise constant function, and hence approximates the integral as a sum of the areas of the trapezoids thus formed.\n",
    "\n",
    "First consider the integral in the first interval in Figure (2). (Recall that the area of a trapezium is defined as $A = \\frac{h}{2}\\left(C + c\\right)$, where\n",
    "$C$ and $c$ are the two parallel sides of the trapezium and h, in this case, is the perpendicular distance between the parallel sides):\n",
    "\n",
    "$$ \\int_{x_0}^{x_1} f\\left(x\\right)\\;\\textrm{dx} \\approx \\frac{1}{2}h\\left[f_0 + f_1\\right] $$\n",
    "\n",
    "Then do the same for each of the intervals and sum:\n",
    "\n",
    "$$ \\int_{a}^{b} f\\left(x\\right)\\;\\textrm{dx} = \\int_{x_0}^{x_N} f\\left(x\\right)\\;\\textrm{dx}\\approx h\\left[\\frac{1}{2}f_0 + f_1 + f_2 + \\dots + f_{N-1} + \\frac{1}{2}f_N\\right] $$\n",
    "\n",
    "Written as a sum,\n",
    "\n",
    "$$ \\int_{a}^{b} f\\left(x\\right)\\;\\textrm{dx} \\approx h\\left[\\frac{1}{2}f_0 + \\frac{1}{2}f_N + \\sum_{k=1}^{N-1} f_k\\right] $$\n",
    "\n",
    "When you write a Python code to evaluate sums like this you have to be very careful about the limits in the for loop, and how many intervals there are. Remember that Python ends the loop at N-1 not N!!\n",
    "\n",
    "<img src=\"IntegrationTrap.png\" alt=\"Figure 2: Trapezium rule\" width=\"400\"/>"
   ]
  },
  {
   "cell_type": "markdown",
   "id": "6dae5fb4-1493-41bb-86ca-d0b8813dfef5",
   "metadata": {},
   "source": [
    "### Program 2. Integrate Using the Trapezium Rule\n",
    "```python\n",
    "\"\"\"\n",
    "Calculates the integral of a function using the rectangle and\n",
    "trapezoidal rule\n",
    "\"\"\"\n",
    "import numpy as np\n",
    "import matplotlib.pyplot as plt\n",
    "\n",
    "N = 10\n",
    "\n",
    "def myfunc1(x):\n",
    "    \"\"\" This is the function over the interval [a,b] to integrate \"\"\"\n",
    "    return (np.sin(x))**2\n",
    "pass\n",
    "\n",
    "def myfunc2(x):\n",
    "    \"\"\" This is another function over the interval [a,b] to integrate \"\"\"\n",
    "    return np.cos(x)\n",
    "pass\n",
    "\n",
    "x0 = 0.5\n",
    "x1 = x0 + 2*np.pi\n",
    "# Now set the x-axis points\n",
    "x = np.linspace(x0,x1,N)\n",
    "# Now we choose what function to intgrate and put uts values into an array\n",
    "y = myfunc1(x)\n",
    "\n",
    "# Now do the integral using the rectangle sum\n",
    "h = (x[-1] - x[0])/(N-1) # Is this correct? Or should it be N?\n",
    "myint = 0\n",
    "for i in range(0,N-1): # Are these limits correct?\n",
    "    myint = myint + h * y[i]\n",
    "pass\n",
    "\n",
    "# Now compute average value of the integral\n",
    "myaverage = myint/(x[-1] - x[0])\n",
    "print(’integral = {}’.format(myint))\n",
    "print(’average =’, myaverage)\n",
    "   \n",
    "# Now do the integral using the trapezoidal rule\n",
    "h = (x[-1] - x[0])/(N-1)\n",
    "myint2 = 0\n",
    "for i in range(0,N-1):\n",
    "    myint2 = myint2 + 0.5* h * (y[i] + y[i+1]) # Is this the same as equation (6)\n",
    "    \n",
    "myaverage2 = myint2/(x[-1] - x[0])\n",
    "print(’integral = {}’.format(myint2))\n",
    "print(’average =’, myaverage2)\n",
    "```"
   ]
  },
  {
   "cell_type": "markdown",
   "id": "fe944737-0ec0-46ec-8146-030cd153e139",
   "metadata": {},
   "source": [
    "___\n",
    "\n",
    "In these exercises you will be writing a program to answer the following question: How well does the Trapezium rule integrate functions on the real line compared to the piecewise constant (rectangular) approximation? You may use the following two integrals for your program,\n",
    "\\begin{align}\n",
    "    I_1 &= \\int_0^2 \\sin\\left(e^x\\right)\\;\\textrm{dx} \\\\\n",
    "    I_2 &= \\int_0^1 \\cos\\left(8\\pi x\\right)e^{−4x} \\;\\textrm{dx}.\n",
    "\\end{align}\n",
    "\n",
    "You may assume that the exact values for these integrals are, \n",
    "\\begin{align}\n",
    "    I_1 &= 0.550935173739280 \\\\\n",
    "    I_2 &= \\frac{1}{4 + 16\\pi^2} \\left(1-\\frac{1}{e^4}\\right)\n",
    "\\end{align}\n",
    "\n",
    "The following exercises will help you build your program. You may\n",
    "use other techniques."
   ]
  },
  {
   "cell_type": "code",
   "execution_count": 1,
   "id": "6a9c3d64-cbec-4c09-82bb-592a2cc24a1f",
   "metadata": {},
   "outputs": [],
   "source": [
    "# Space to import useful packages, e.g. numpy"
   ]
  },
  {
   "cell_type": "markdown",
   "id": "4b1c3ffa-3fa6-4c54-98d7-f82d930d0c71",
   "metadata": {},
   "source": [
    "## Exercise 1\n",
    "Write a program to approximate $I_1$ using the piecewise constant approximation for a single value of $N$. Make a sketch of the procedure using pseudo code. You can ollow the examples given in the worksheet. Then create a python function to perform the integration and call it `IntConst`.\n",
    "1. By adding a loop, modify your program to perform the same task but for different values of $N$.\n",
    "2. Modify your program to make a plot of integration error versus the total number of points used in the approximation. Assume the error is characterized by the difference between the approximated value of the integral and its exact value.\n",
    "\n",
    "_Hint: Make an array that contains all the values of $N$ you wish to test, such as_ `NValues = np.array([6, 10, 15, 20, 100])`. _Create another array to hold the value of the integral for each $N$ such as,_ `IntegralValues = np.array(len(NValues))`.\n",
    "\n",
    "3. Modify your program to make a plot to use a red dashed line.\n",
    "\n",
    "_Hint: Don’t forget you can internet search for the syntax to change the line type for the plot function._\n",
    "\n",
    "4. Add labels to your plots so that the horizontal and vertical axes indicate which values are plotted. Add a legend to your plot so that you and others can easily differentiate the two lines"
   ]
  },
  {
   "cell_type": "code",
   "execution_count": null,
   "id": "f2852f0f-8554-47b9-8eef-4e8fec534ec6",
   "metadata": {},
   "outputs": [],
   "source": []
  },
  {
   "cell_type": "markdown",
   "id": "87dc245e-ef6f-4c4e-bf66-d311c05bfc92",
   "metadata": {},
   "source": [
    "## Exercise 2\n",
    "Modify your program from Exercise 1 to approximate $I_2$ as well as $I_1$. Remember that the beginning and end point of the integration interval, $a$ and $b$ are different in the two cases. In the first instance you can just copy your first program, making changes as needed.\n",
    "\n",
    "You may use a multidimensional array like `IntegralValuesTrap = np.zeros((Ntotal,2))`. This will allow you to have memory to save the integral values for different values of $N$ and two different integrals, so both integrations can be done in the same code.\n",
    "\n",
    "_Hint: You may pass functions as arguments to other functions._\n",
    "\n",
    "1. As in [Exercise 1](#Exercise-1), make a plot of the Error versus $N$ for $I_2$\n",
    "2. Make one plot of the Error versus $N$ for both $I_1$ as well as $I_2$. Your plot should have two lines, one for each integral. Again, use pyplot to make a legend so that you can distinguish which line is for which function."
   ]
  },
  {
   "cell_type": "code",
   "execution_count": null,
   "id": "1f484d9b-af70-422f-805f-991a1c375ca5",
   "metadata": {},
   "outputs": [],
   "source": []
  },
  {
   "cell_type": "markdown",
   "id": "78b8c21c-3c31-48df-b741-39c579d03096",
   "metadata": {},
   "source": [
    "## Exercise 3\n",
    "Write a new function in your program to perform the integrals using the trapezium rule called `IntTrap`. Debug this new function using a function and integral that you now, such as $f\\left(x\\right) = \\sin\\left(2\\pi x\\right)$. You should now have two functions to perform the integrations, one for the Trapezium rule and one for the piecewise constant approximation."
   ]
  },
  {
   "cell_type": "code",
   "execution_count": null,
   "id": "9d95cdb1-f3b0-45a4-b8f1-09a1ba6c2232",
   "metadata": {},
   "outputs": [],
   "source": []
  },
  {
   "cell_type": "markdown",
   "id": "e7860ce4-7bfc-4f9b-be30-cd053e731989",
   "metadata": {},
   "source": [
    "## Exercise 4\n",
    "Make a plot of the Error versus $N$ for both $I_1$ and $I_2$ using the Trapezium Rule."
   ]
  },
  {
   "cell_type": "code",
   "execution_count": null,
   "id": "c9cf0f0f-dcf6-408b-a088-314518392566",
   "metadata": {},
   "outputs": [],
   "source": []
  },
  {
   "cell_type": "markdown",
   "id": "67302e18-663b-4c8c-8210-2c8c5ab134f0",
   "metadata": {},
   "source": [
    "## Exercise 5\n",
    "Modify your plot to include the Error versus $N$ for both $I_1$ and $I_2$ using the Piecewise Constant Approximation. Your plot should have 4 different lines. Use pylab’s legend to differentiate between the meaning of each line."
   ]
  },
  {
   "cell_type": "code",
   "execution_count": null,
   "id": "5b667645-7fdc-4eba-adc0-8a5d441df570",
   "metadata": {},
   "outputs": [],
   "source": []
  },
  {
   "cell_type": "markdown",
   "id": "7030a57d-0a6a-4169-a549-c6014216a2c0",
   "metadata": {},
   "source": [
    "## Exercise 6\n",
    "Make another plot that uses a log plot in the y-axis. Does this help you investigate error better?"
   ]
  },
  {
   "cell_type": "code",
   "execution_count": null,
   "id": "200254e3-9f8c-4d05-b6c7-d4165aec422d",
   "metadata": {},
   "outputs": [],
   "source": []
  },
  {
   "cell_type": "markdown",
   "id": "d26d69f0-f7f4-46a6-a8ec-63d12070a095",
   "metadata": {},
   "source": [
    "## Exercise 7\n",
    "Write down what you notice about the errors in the two different integral approximations."
   ]
  },
  {
   "cell_type": "code",
   "execution_count": null,
   "id": "05e32e07-86bb-4ced-be37-43703550067e",
   "metadata": {},
   "outputs": [],
   "source": []
  }
 ],
 "metadata": {
  "kernelspec": {
   "display_name": "Python 3",
   "language": "python",
   "name": "python3"
  },
  "language_info": {
   "codemirror_mode": {
    "name": "ipython",
    "version": 3
   },
   "file_extension": ".py",
   "mimetype": "text/x-python",
   "name": "python",
   "nbconvert_exporter": "python",
   "pygments_lexer": "ipython3",
   "version": "3.9.1"
  }
 },
 "nbformat": 4,
 "nbformat_minor": 5
}
